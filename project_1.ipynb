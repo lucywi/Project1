{
 "cells": [
  {
   "cell_type": "markdown",
   "metadata": {},
   "source": [
    "# Project 1\n",
    "\n",
    "## Step 1: Open the `sat_scores.csv` file. Investigate the data, and answer the questions below.\n"
   ]
  },
  {
   "cell_type": "markdown",
   "metadata": {},
   "source": [
    "##### 1. What does the data describe?"
   ]
  },
  {
   "cell_type": "markdown",
   "metadata": {},
   "source": [
    "The data gives the Rate, Verbal and Math scores by State. "
   ]
  },
  {
   "cell_type": "markdown",
   "metadata": {},
   "source": [
    "##### 2. Does the data look complete? Are there any obvious issues with the observations?"
   ]
  },
  {
   "cell_type": "markdown",
   "metadata": {},
   "source": [
    "The data looks complete, however it's not clear what the \"Rate\" column contains (Rate is just not a sufficiently descriptive column title to make that determination)"
   ]
  },
  {
   "cell_type": "markdown",
   "metadata": {},
   "source": [
    "##### 3. Create a data dictionary for the dataset."
   ]
  },
  {
   "cell_type": "markdown",
   "metadata": {},
   "source": [
    "(per discussion with Lucy, ignoring this since dictionary/lists are created for data over subsequent sections)"
   ]
  },
  {
   "cell_type": "markdown",
   "metadata": {},
   "source": [
    "## Step 2: Load the data."
   ]
  },
  {
   "cell_type": "markdown",
   "metadata": {},
   "source": [
    "##### 4. Load the data into a list of lists"
   ]
  },
  {
   "cell_type": "code",
   "execution_count": 2,
   "metadata": {
    "collapsed": false
   },
   "outputs": [],
   "source": [
    "# Import csv module, open the csv in universal newline mode, create a list \"data\" \n",
    "# and populate it with lists representing each row in the csv.\n",
    "\n",
    "import csv\n",
    "with open(\"sat_scores.csv\",\"U\") as f:\n",
    "    reader = csv.reader(f)\n",
    "    data = []\n",
    "    for row in reader:\n",
    "        data.append(row)"
   ]
  },
  {
   "cell_type": "markdown",
   "metadata": {},
   "source": [
    "##### 5. Print the data"
   ]
  },
  {
   "cell_type": "code",
   "execution_count": 3,
   "metadata": {
    "collapsed": false
   },
   "outputs": [
    {
     "name": "stdout",
     "output_type": "stream",
     "text": [
      "[['State', 'Rate', 'Verbal', 'Math'], ['CT', '82', '509', '510'], ['NJ', '81', '499', '513'], ['MA', '79', '511', '515'], ['NY', '77', '495', '505'], ['NH', '72', '520', '516'], ['RI', '71', '501', '499'], ['PA', '71', '500', '499'], ['VT', '69', '511', '506'], ['ME', '69', '506', '500'], ['VA', '68', '510', '501'], ['DE', '67', '501', '499'], ['MD', '65', '508', '510'], ['NC', '65', '493', '499'], ['GA', '63', '491', '489'], ['IN', '60', '499', '501'], ['SC', '57', '486', '488'], ['DC', '56', '482', '474'], ['OR', '55', '526', '526'], ['FL', '54', '498', '499'], ['WA', '53', '527', '527'], ['TX', '53', '493', '499'], ['HI', '52', '485', '515'], ['AK', '51', '514', '510'], ['CA', '51', '498', '517'], ['AZ', '34', '523', '525'], ['NV', '33', '509', '515'], ['CO', '31', '539', '542'], ['OH', '26', '534', '439'], ['MT', '23', '539', '539'], ['WV', '18', '527', '512'], ['ID', '17', '543', '542'], ['TN', '13', '562', '553'], ['NM', '13', '551', '542'], ['IL', '12', '576', '589'], ['KY', '12', '550', '550'], ['WY', '11', '547', '545'], ['MI', '11', '561', '572'], ['MN', '9', '580', '589'], ['KS', '9', '577', '580'], ['AL', '9', '559', '554'], ['NB', '8', '562', '568'], ['OK', '8', '567', '561'], ['MO', '8', '577', '577'], ['LA', '7', '564', '562'], ['WI', '6', '584', '596'], ['AR', '6', '562', '550'], ['UT', '5', '575', '570'], ['IA', '5', '593', '603'], ['SD', '4', '577', '582'], ['ND', '4', '592', '599'], ['MS', '4', '566', '551']]\n"
     ]
    }
   ],
   "source": [
    "print data"
   ]
  },
  {
   "cell_type": "markdown",
   "metadata": {
    "collapsed": true
   },
   "source": [
    "##### 6. Extract a list of the labels from the data, and remove them from the data."
   ]
  },
  {
   "cell_type": "code",
   "execution_count": 4,
   "metadata": {
    "collapsed": false
   },
   "outputs": [
    {
     "name": "stdout",
     "output_type": "stream",
     "text": [
      "['State', 'Rate', 'Verbal', 'Math']\n"
     ]
    }
   ],
   "source": [
    "labels = data.pop(0) # removes first row and returns it\n",
    "print labels # checking contents of labels"
   ]
  },
  {
   "cell_type": "markdown",
   "metadata": {},
   "source": [
    "##### 7. Create a list of State names extracted from the data. (Hint: use the list of labels to index on the State column)"
   ]
  },
  {
   "cell_type": "code",
   "execution_count": 5,
   "metadata": {
    "collapsed": false
   },
   "outputs": [
    {
     "name": "stdout",
     "output_type": "stream",
     "text": [
      "['CT', 'NJ', 'MA', 'NY', 'NH', 'RI', 'PA', 'VT', 'ME', 'VA', 'DE', 'MD', 'NC', 'GA', 'IN', 'SC', 'DC', 'OR', 'FL', 'WA', 'TX', 'HI', 'AK', 'CA', 'AZ', 'NV', 'CO', 'OH', 'MT', 'WV', 'ID', 'TN', 'NM', 'IL', 'KY', 'WY', 'MI', 'MN', 'KS', 'AL', 'NB', 'OK', 'MO', 'LA', 'WI', 'AR', 'UT', 'IA', 'SD', 'ND', 'MS']\n"
     ]
    }
   ],
   "source": [
    "# creates a new list states for state names. finds the index corresponding with \"State\" column\n",
    "# and populates the value at that index of every row into states.\n",
    "\n",
    "states = []\n",
    "for i in range(len(labels)):\n",
    "    if labels[i] == \"State\":\n",
    "        stateIndex = i\n",
    "        break\n",
    "for row in data:\n",
    "    states.append(row[stateIndex])\n",
    "print states"
   ]
  },
  {
   "cell_type": "markdown",
   "metadata": {},
   "source": [
    "##### 8. Print the types of each column"
   ]
  },
  {
   "cell_type": "code",
   "execution_count": 6,
   "metadata": {
    "collapsed": false
   },
   "outputs": [
    {
     "name": "stdout",
     "output_type": "stream",
     "text": [
      "0 <type 'str'>\n",
      "1 <type 'str'>\n",
      "2 <type 'str'>\n",
      "3 <type 'str'>\n"
     ]
    }
   ],
   "source": [
    "# assuming we can use the first row to generalize across full columns\n",
    "for i in range(len(data[1])):\n",
    "    print i, type(data[1][i])"
   ]
  },
  {
   "cell_type": "markdown",
   "metadata": {},
   "source": [
    "##### 9. Do any types need to be reassigned? If so, go ahead and do it."
   ]
  },
  {
   "cell_type": "code",
   "execution_count": 7,
   "metadata": {
    "collapsed": false
   },
   "outputs": [],
   "source": [
    "# State column is OK as a str, but the Rate, Math and Verbal columns need to be integers\n",
    "# run through data and update columns 2,3,4 (index 1,2,3) to be integer type rather than string\n",
    "\n",
    "for row in data:\n",
    "    row[1] = int(row[1])\n",
    "    row[2] = int(row[2])\n",
    "    row[3] = int(row[3])\n",
    "    "
   ]
  },
  {
   "cell_type": "markdown",
   "metadata": {},
   "source": [
    "##### 10. Create a dictionary for each column mapping the State to its respective value for that column. "
   ]
  },
  {
   "cell_type": "code",
   "execution_count": 8,
   "metadata": {
    "collapsed": false
   },
   "outputs": [],
   "source": [
    "# create 3 dictionaries, with key:value pairs of State:Rate, State: Verbal,\n",
    "# State: Math, then print them\n",
    "\n",
    "stateRate = {}\n",
    "for row in data:\n",
    "    stateRate.update({row[0]:row[1]})\n",
    "    \n",
    "stateVerbal = {}\n",
    "for row in data:\n",
    "    stateVerbal.update({row[0]:row[2]})\n",
    "        \n",
    "stateMath = {}\n",
    "for row in data:\n",
    "    stateMath.update({row[0]:row[3]})\n",
    "    \n"
   ]
  },
  {
   "cell_type": "markdown",
   "metadata": {},
   "source": [
    "## Step 3: Describe the data"
   ]
  },
  {
   "cell_type": "markdown",
   "metadata": {},
   "source": [
    "##### 12. Print the min and max of each column"
   ]
  },
  {
   "cell_type": "code",
   "execution_count": 9,
   "metadata": {
    "collapsed": false
   },
   "outputs": [
    {
     "name": "stdout",
     "output_type": "stream",
     "text": [
      "Min Rate 4, Max Rate 82\n",
      "Min Verbal 482, Max Verbal 593\n",
      "Min Math 439, Max Math 603\n"
     ]
    }
   ],
   "source": [
    "# Create 3 lists: Rate, Verbal and Math. Print Min, Max of each of these\n",
    "\n",
    "Rate = []\n",
    "Verbal = []\n",
    "Math = []\n",
    "\n",
    "for state in stateRate:\n",
    "    Rate.append(stateRate[state])\n",
    "    \n",
    "print \"Min Rate %d, Max Rate %d\" % (min(Rate), max(Rate))\n",
    "\n",
    "for state in stateVerbal:\n",
    "    Verbal.append(stateVerbal[state])\n",
    "    \n",
    "print \"Min Verbal %d, Max Verbal %d\" % (min(Verbal), max(Verbal))\n",
    "\n",
    "for state in stateMath:\n",
    "    Math.append(stateMath[state])\n",
    "    \n",
    "print \"Min Math %d, Max Math %d\" % (min(Math), max(Math))\n"
   ]
  },
  {
   "cell_type": "markdown",
   "metadata": {},
   "source": [
    "##### 13. Write a function using only list comprehensions, no loops, to compute Standard Deviation. Print the Standard Deviation of each numeric column."
   ]
  },
  {
   "cell_type": "code",
   "execution_count": 10,
   "metadata": {
    "collapsed": false
   },
   "outputs": [
    {
     "name": "stdout",
     "output_type": "stream",
     "text": [
      "The standard deviation of Rate is 27.279239.\n",
      "The standard deviation of Verbal is 33.031983.\n",
      "The standard deviation of Math is 35.929873.\n"
     ]
    }
   ],
   "source": [
    "# myStDev(nums) takes a list of numbers and computes the standard deviation\n",
    "# by calculating the mean, creating a list of squared diff from the mean, \n",
    "# finding the average of that list (ie variance) and taking the square root\n",
    "# of variance to arrive at standard deviation.\n",
    "import numpy as np\n",
    "from numpy import mean\n",
    "def myStDev(nums):\n",
    "    myMean = mean(nums)\n",
    "    squaredDist = [(x-myMean)**2 for x in nums]\n",
    "    variance = mean(squaredDist)\n",
    "    stDev = variance**.5\n",
    "    return stDev\n",
    "    \n",
    "\n",
    "print \"The standard deviation of Rate is %f.\" % (myStDev(Rate))\n",
    "print \"The standard deviation of Verbal is %f.\" % (myStDev(Verbal))\n",
    "print \"The standard deviation of Math is %f.\" % (myStDev(Math))"
   ]
  },
  {
   "cell_type": "markdown",
   "metadata": {},
   "source": [
    "## Step 4: Visualize the data"
   ]
  },
  {
   "cell_type": "markdown",
   "metadata": {
    "collapsed": true
   },
   "source": [
    "##### 14. Using MatPlotLib and PyPlot, plot the distribution of the Rate using histograms."
   ]
  },
  {
   "cell_type": "code",
   "execution_count": 28,
   "metadata": {
    "collapsed": false
   },
   "outputs": [
    {
     "data": {
      "image/png": "[encoded data removed]",
      "text/plain": [
       "<matplotlib.figure.Figure at 0x113f318d0>"
      ]
     },
     "metadata": {},
     "output_type": "display_data"
    }
   ],
   "source": [
    "# import matplotlib\n",
    "import matplotlib\n",
    "import matplotlib.pyplot as plt\n",
    "%matplotlib inline\n",
    "\n",
    "# use hist() function to plot a histogram. Using 20 buckets to give a sense of the distribution\n",
    "plt.hist(Rate,20)\n",
    "plt.show()"
   ]
  },
  {
   "cell_type": "markdown",
   "metadata": {},
   "source": [
    "##### 15. Plot the Math distribution"
   ]
  },
  {
   "cell_type": "code",
   "execution_count": 27,
   "metadata": {
    "collapsed": false
   },
   "outputs": [
    {
     "data": {
      "image/png": "[encoded data removed]",
      "text/plain": [
       "<matplotlib.figure.Figure at 0x114079390>"
      ]
     },
     "metadata": {},
     "output_type": "display_data"
    }
   ],
   "source": [
    "# Math histogram using 20 buckets\n",
    "plt.hist(Math,20)\n",
    "plt.show()"
   ]
  },
  {
   "cell_type": "markdown",
   "metadata": {},
   "source": [
    "##### 16. Plot the Verbal distribution"
   ]
  },
  {
   "cell_type": "code",
   "execution_count": 26,
   "metadata": {
    "collapsed": false
   },
   "outputs": [
    {
     "data": {
      "image/png": "[encoded data removed]",
      "text/plain": [
       "<matplotlib.figure.Figure at 0x114079890>"
      ]
     },
     "metadata": {},
     "output_type": "display_data"
    }
   ],
   "source": [
    "# Verbal histogram using 20 buckets\n",
    "plt.hist(Verbal,20)\n",
    "plt.show()"
   ]
  },
  {
   "cell_type": "markdown",
   "metadata": {},
   "source": [
    "##### 17. What is the typical assumption for data distribution?"
   ]
  },
  {
   "cell_type": "markdown",
   "metadata": {
    "collapsed": false
   },
   "source": [
    "    With many types of data (but not all), the assumption is that the distribution will be roughly normal/Gaussian."
   ]
  },
  {
   "cell_type": "markdown",
   "metadata": {},
   "source": [
    "##### 18. Does that distribution hold true for our data?"
   ]
  },
  {
   "cell_type": "markdown",
   "metadata": {
    "collapsed": false
   },
   "source": [
    "No, the Rate, Math and Verbal distributions do not seem to approximate a normal distribution. However, 50 is a small sample size. It is quite possible that over a more granular data set (say, the scores for every individual student taking the SAT rather than average by state) we would see more of a gaussian distribution. "
   ]
  },
  {
   "cell_type": "markdown",
   "metadata": {},
   "source": [
    "##### 19. Plot some scatterplots. **BONUS**: Use a PyPlot `figure` to present multiple plots at once."
   ]
  },
  {
   "cell_type": "code",
   "execution_count": 24,
   "metadata": {
    "collapsed": false
   },
   "outputs": [
    {
     "data": {
      "image/png": "[encoded data removed]",
      "text/plain": [
       "<matplotlib.figure.Figure at 0x113dafc90>"
      ]
     },
     "metadata": {},
     "output_type": "display_data"
    }
   ],
   "source": [
    "# print scatterplot of Verbal vs Math scores\n",
    "\n",
    "plt.scatter(Verbal,Math)\n",
    "plt.show()"
   ]
  },
  {
   "cell_type": "code",
   "execution_count": 34,
   "metadata": {
    "collapsed": false
   },
   "outputs": [
    {
     "data": {
      "image/png": "[encoded data removed]",
      "text/plain": [
       "<matplotlib.figure.Figure at 0x113fdd990>"
      ]
     },
     "metadata": {},
     "output_type": "display_data"
    }
   ],
   "source": [
    "# bonus: use PyPlot figure to show multiple plots at once\n",
    "# note - I realize that the labels don't show well here but didn't want to\n",
    "# waste time looking up how to fix this once I saw the comment about\n",
    "# most DS people using easier tools like seaborn or tableau instead!\n",
    "\n",
    "fig = plt.figure()\n",
    "\n",
    "# add a new subplot\n",
    "\n",
    "ax1 = fig.add_subplot(211)\n",
    "\n",
    "# set labels for first plot\n",
    "ax1.set_xlabel(\"Avg Verbal Score\")\n",
    "ax1.set_ylabel(\"Avg Math Score\")\n",
    "\n",
    "# fill in subplot with Verbal v Math data\n",
    "ax1.scatter(Verbal, Math)\n",
    "\n",
    "# add a 2nd subplot, set its labels, and fill in with Total score v Rate data\n",
    "ax2 = fig.add_subplot(212)\n",
    "ax2.set_xlabel(\"Avg Participation Rate\")\n",
    "ax2.set_ylabel(\"Avg Total SAT Score\")\n",
    "ax2.scatter(Rate, np.array(Verbal) + np.array(Math))\n",
    "\n",
    "# print figure\n",
    "plt.show()\n",
    "\n",
    "\n",
    "\n"
   ]
  },
  {
   "cell_type": "markdown",
   "metadata": {},
   "source": [
    "##### 20. Are there any interesting relationships to note?"
   ]
  },
  {
   "cell_type": "markdown",
   "metadata": {
    "collapsed": false
   },
   "source": [
    "As we might expect, math and verbal scores are quite correlated - ie, states with high average math scores also have high average verbal scores. This makes sense in that we expect better quality education to improve both math and verbal SAT scores roughly in tandem. One major exception to this is the obvious outlier point, which is (Verbal, Math) (534, 439) from Ohio. Ohio's poor Math performance relative to where other states with similar Verbal performance lie, suggests that it could perform better if it made changes to its Math education program to bring it in line with other states.\n",
    "\n",
    "Less intuitively, there appears to be some negative correlation between participation rate and overall SAT score in each state. The reason for this relationship would require further analysis. Perhaps some states have incentive programs encouraging all high school students to take the SAT, whereas in others only highly self-motivated students (a quality correlated with higher test scores) take the test."
   ]
  },
  {
   "cell_type": "markdown",
   "metadata": {},
   "source": [
    "##### 21. Create box plots for each variable. "
   ]
  },
  {
   "cell_type": "code",
   "execution_count": 36,
   "metadata": {
    "collapsed": false
   },
   "outputs": [
    {
     "name": "stdout",
     "output_type": "stream",
     "text": [
      "Rate Boxplot\n"
     ]
    },
    {
     "data": {
      "image/png": "[encoded data removed]",
      "text/plain": [
       "<matplotlib.figure.Figure at 0x114227490>"
      ]
     },
     "metadata": {},
     "output_type": "display_data"
    },
    {
     "name": "stdout",
     "output_type": "stream",
     "text": [
      "Verbal Boxplot\n"
     ]
    },
    {
     "data": {
      "image/png": "[encoded data removed]",
      "text/plain": [
       "<matplotlib.figure.Figure at 0x113f4e850>"
      ]
     },
     "metadata": {},
     "output_type": "display_data"
    },
    {
     "name": "stdout",
     "output_type": "stream",
     "text": [
      "Math Boxplot\n"
     ]
    },
    {
     "data": {
      "image/png": "[encoded data removed]",
      "text/plain": [
       "<matplotlib.figure.Figure at 0x11404fed0>"
      ]
     },
     "metadata": {},
     "output_type": "display_data"
    }
   ],
   "source": [
    "# create & print simple box plot for each of the 3 variables: Rate,\n",
    "# Verbal and Math\n",
    "\n",
    "plt.boxplot(Rate)\n",
    "print \"Rate Boxplot\"\n",
    "plt.show()\n",
    "\n",
    "plt.boxplot(Verbal)\n",
    "print \"Verbal Boxplot\"\n",
    "plt.show()\n",
    "\n",
    "plt.boxplot(Math)\n",
    "print \"Math Boxplot\"\n",
    "plt.show()"
   ]
  },
  {
   "cell_type": "markdown",
   "metadata": {},
   "source": [
    "##### BONUS: Using Tableau, create a heat map for each variable using a map of the US. "
   ]
  },
  {
   "cell_type": "markdown",
   "metadata": {
    "collapsed": true
   },
   "source": [
    "Submitting separately in a tableau workbook"
   ]
  }
 ],
 "metadata": {
  "kernelspec": {
   "display_name": "Python 2",
   "language": "python",
   "name": "python2"
  },
  "language_info": {
   "codemirror_mode": {
    "name": "ipython",
    "version": 2
   },
   "file_extension": ".py",
   "mimetype": "text/x-python",
   "name": "python",
   "nbconvert_exporter": "python",
   "pygments_lexer": "ipython2",
   "version": "2.7.11"
  }
 },
 "nbformat": 4,
 "nbformat_minor": 0
}
